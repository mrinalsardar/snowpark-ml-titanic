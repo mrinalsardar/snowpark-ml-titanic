{
 "cells": [
  {
   "cell_type": "markdown",
   "metadata": {},
   "source": [
    "# Snowpark ML Ops: Model Registry\n",
    "* Models are stored as first-class schema level objects\n",
    "* Models can be found and used by others"
   ]
  },
  {
   "cell_type": "markdown",
   "metadata": {},
   "source": [
    "## Main objects\n",
    "Snowpark model registry API has three main objects:\n",
    "* `snowflake.ml.registry.Registry` - To manage models within a schema\n",
    "* `snowflake.ml.model.Model` - To represent models\n",
    "* `snowflake.ml.model.ModelVersion` - To represent a specific version of a model"
   ]
  },
  {
   "cell_type": "markdown",
   "metadata": {},
   "source": [
    "## Supported Model Types\n",
    "Currently supported types of models:\n",
    "* Snowpark ML Modeling\n",
    "* scikit-learn\n",
    "* XGBoost\n",
    "* PyTorch\n",
    "* TensorFlow\n",
    "* MLFlow PyFunc\n",
    "* HuggingFace pipeline"
   ]
  },
  {
   "cell_type": "markdown",
   "metadata": {},
   "source": [
    "## Python Environment"
   ]
  },
  {
   "cell_type": "markdown",
   "metadata": {},
   "source": [
    "### Conda environment.yml file content\n",
    "```yaml\n",
    "name: snowpark\n",
    "channels:\n",
    "  - snowflake\n",
    "dependencies:\n",
    "  - python=3.9\n",
    "  - openssl=3.0.9\n",
    "  - conda-forge::charset-normalizer\n",
    "  - snowflake-ml-python\n",
    "  - pip\n",
    "  - pip:\n",
    "      - \"-r requirements.txt\"\n",
    "```"
   ]
  },
  {
   "cell_type": "markdown",
   "metadata": {},
   "source": [
    "### requirements.txt file content\n",
    "```\n",
    "snowflake-snowpark-python[pandas]\n",
    "tomli\n",
    "toml\n",
    "pytest\n",
    "snowflake-vcrpy @ git+https://github.com/Snowflake-Labs/snowflake-vcrpy.git@v0.1.1\n",
    "packaging\n",
    "```"
   ]
  },
  {
   "cell_type": "markdown",
   "metadata": {},
   "source": [
    "## Creating Snowpark Session"
   ]
  },
  {
   "cell_type": "code",
   "execution_count": 34,
   "metadata": {},
   "outputs": [],
   "source": [
    "from os import environ\n",
    "import logging\n",
    "import warnings\n",
    "\n",
    "warnings.filterwarnings(\"ignore\")\n",
    "\n",
    "log = logging.getLogger(__name__)\n",
    "logging.basicConfig(level=logging.INFO)\n",
    "logging.getLogger('snowflake.connector').setLevel(logging.ERROR)"
   ]
  },
  {
   "cell_type": "code",
   "execution_count": 35,
   "metadata": {},
   "outputs": [],
   "source": [
    "def get_env_var_config() -> dict:\n",
    "    \"\"\"\n",
    "    Returns a dictionary of the connection parameters using the CLI\n",
    "    environment variables.\n",
    "    \"\"\"\n",
    "    try:\n",
    "        return {\n",
    "            \"user\": environ[\"SNOWSQL_USER\"],\n",
    "            \"password\": environ[\"SNOWSQL_PWD\"],\n",
    "            \"account\": environ[\"SNOWSQL_ACCOUNT\"],\n",
    "            \"role\": environ[\"SNOWSQL_ROLE\"],\n",
    "            \"warehouse\": \"snowpark_medium_wh\",\n",
    "            \"database\": environ[\"SNOWSQL_DATABASE\"],\n",
    "            \"schema\": environ[\"SNOWSQL_SCHEMA\"],\n",
    "        }\n",
    "    except KeyError as exc:\n",
    "        raise KeyError(\n",
    "            \"ERROR: Environment variable for Snowflake Connection not found. \"\n",
    "            + \"Please set the SNOWSQL_* environment variables\"\n",
    "        ) from exc"
   ]
  },
  {
   "cell_type": "code",
   "execution_count": 36,
   "metadata": {},
   "outputs": [
    {
     "name": "stderr",
     "output_type": "stream",
     "text": [
      "INFO:snowflake.snowpark.session:Snowpark Session information: \n",
      "\"version\" : 1.11.1,\n",
      "\"python.version\" : 3.9.17,\n",
      "\"python.connector.version\" : 3.5.0,\n",
      "\"python.connector.session.id\" : 2122392449232918,\n",
      "\"os.name\" : Darwin\n",
      "\n"
     ]
    }
   ],
   "source": [
    "from snowflake.snowpark import Session\n",
    "\n",
    "session = Session.builder.configs(get_env_var_config()).create()"
   ]
  },
  {
   "cell_type": "code",
   "execution_count": 37,
   "metadata": {},
   "outputs": [],
   "source": [
    "# Make sure these two are present otherwise\n",
    "# you will get an 'object not found or cannot be operated on' error\n",
    "DATABASE_NAME = \"MACHINE_LEARNING\"\n",
    "SCHEMA_NAME = \"MODEL_REGISTRY\""
   ]
  },
  {
   "cell_type": "code",
   "execution_count": 38,
   "metadata": {},
   "outputs": [
    {
     "data": {
      "text/plain": [
       "[Row(status='Statement executed successfully.')]"
      ]
     },
     "execution_count": 38,
     "metadata": {},
     "output_type": "execute_result"
    }
   ],
   "source": [
    "# create a clean schema for model registry\n",
    "session.sql(f\"CREATE OR REPLACE SCHEMA {DATABASE_NAME}.{SCHEMA_NAME}\").collect()\n",
    "\n",
    "# But that's only for model registry, data is present in environ['SNOWSQL_SCHEMA']\n",
    "session.sql(f\"USE SCHEMA {environ['SNOWSQL_DATABASE']}.{environ['SNOWSQL_SCHEMA']}\").collect()"
   ]
  },
  {
   "cell_type": "markdown",
   "metadata": {},
   "source": [
    "## Opening A Registry"
   ]
  },
  {
   "cell_type": "code",
   "execution_count": 39,
   "metadata": {},
   "outputs": [],
   "source": [
    "from snowflake.ml.registry import Registry\n",
    "\n",
    "reg = Registry(session=session, database_name=DATABASE_NAME, schema_name=SCHEMA_NAME)"
   ]
  },
  {
   "cell_type": "markdown",
   "metadata": {},
   "source": [
    "## Training A Model: RandomForestClassifier V1"
   ]
  },
  {
   "cell_type": "markdown",
   "metadata": {},
   "source": [
    "### Prepare Training Data"
   ]
  },
  {
   "cell_type": "code",
   "execution_count": 40,
   "metadata": {},
   "outputs": [
    {
     "name": "stderr",
     "output_type": "stream",
     "text": [
      "INFO:__main__:Dropping non impact columns\n"
     ]
    },
    {
     "name": "stdout",
     "output_type": "stream",
     "text": [
      "-------------------------------------------------------\n",
      "|\"SURVIVED\"  |\"PCLASS\"  |\"SIBSP\"  |\"PARCH\"  |\"FARE\"   |\n",
      "-------------------------------------------------------\n",
      "|0           |3         |1        |0        |7.25     |\n",
      "|1           |1         |1        |0        |71.2833  |\n",
      "|1           |3         |0        |0        |7.925    |\n",
      "|1           |1         |1        |0        |53.1     |\n",
      "|0           |3         |0        |0        |8.05     |\n",
      "|0           |3         |0        |0        |8.4583   |\n",
      "|0           |1         |0        |0        |51.8625  |\n",
      "|0           |3         |3        |1        |21.075   |\n",
      "|1           |3         |0        |2        |11.1333  |\n",
      "|1           |2         |1        |0        |30.0708  |\n",
      "-------------------------------------------------------\n",
      "\n"
     ]
    }
   ],
   "source": [
    "log.debug(\"Reading input table with training data\")\n",
    "training_input_df = session.table('titanic_training')\n",
    "\n",
    "log.info(\"Dropping non impact columns\")\n",
    "v1_drop_cols = ['PassengerId', 'Name', 'Ticket', 'Embarked', 'Sex', 'Age', 'Cabin']\n",
    "v1_training_df = training_input_df.drop(v1_drop_cols)\n",
    "v1_training_df.show()"
   ]
  },
  {
   "cell_type": "markdown",
   "metadata": {},
   "source": [
    "### Prepare Test Data"
   ]
  },
  {
   "cell_type": "code",
   "execution_count": 41,
   "metadata": {},
   "outputs": [
    {
     "name": "stderr",
     "output_type": "stream",
     "text": [
      "INFO:__main__:Dropping non impact columns\n"
     ]
    },
    {
     "name": "stdout",
     "output_type": "stream",
     "text": [
      "-------------------------------------------------------\n",
      "|\"SURVIVED\"  |\"PCLASS\"  |\"SIBSP\"  |\"PARCH\"  |\"FARE\"   |\n",
      "-------------------------------------------------------\n",
      "|0           |3         |1        |0        |7.25     |\n",
      "|1           |1         |1        |0        |71.2833  |\n",
      "|1           |3         |0        |0        |7.925    |\n",
      "|1           |1         |1        |0        |53.1     |\n",
      "|0           |3         |0        |0        |8.05     |\n",
      "|0           |3         |0        |0        |8.4583   |\n",
      "|0           |1         |0        |0        |51.8625  |\n",
      "|0           |3         |3        |1        |21.075   |\n",
      "|1           |3         |0        |2        |11.1333  |\n",
      "|1           |2         |1        |0        |30.0708  |\n",
      "-------------------------------------------------------\n",
      "\n"
     ]
    }
   ],
   "source": [
    "log.debug(\"Reading input table with training data\")\n",
    "test_input_df = session.table('titanic_test')\n",
    "\n",
    "log.info(\"Dropping non impact columns\")\n",
    "v1_test_df = test_input_df.drop(v1_drop_cols)\n",
    "v1_test_df.show()"
   ]
  },
  {
   "cell_type": "markdown",
   "metadata": {},
   "source": [
    "### Train the Model"
   ]
  },
  {
   "cell_type": "code",
   "execution_count": 42,
   "metadata": {},
   "outputs": [
    {
     "data": {
      "text/plain": [
       "<snowflake.ml.modeling.ensemble.random_forest_classifier.RandomForestClassifier at 0x7f8a80944a00>"
      ]
     },
     "execution_count": 42,
     "metadata": {},
     "output_type": "execute_result"
    }
   ],
   "source": [
    "from snowflake.ml.modeling.ensemble import RandomForestClassifier\n",
    "\n",
    "FEATURE_COLS = [\"PCLASS\", \"SIBSP\", \"PARCH\", \"FARE\"]\n",
    "LABEL_COLS = [\"SURVIVED\"]\n",
    "OUTPUT_COLS = [\"PREDICTIONS\"]\n",
    "\n",
    "v1_rf = RandomForestClassifier(\n",
    "    input_cols=FEATURE_COLS,\n",
    "    label_cols=LABEL_COLS,\n",
    "    output_cols=OUTPUT_COLS\n",
    ")\n",
    "\n",
    "v1_rf.fit(v1_training_df)"
   ]
  },
  {
   "cell_type": "code",
   "execution_count": 43,
   "metadata": {},
   "outputs": [
    {
     "name": "stdout",
     "output_type": "stream",
     "text": [
      "------------------------------\n",
      "|\"SURVIVED\"  |\"PREDICTIONS\"  |\n",
      "------------------------------\n",
      "|0           |0              |\n",
      "|1           |1              |\n",
      "|1           |0              |\n",
      "|1           |1              |\n",
      "|0           |0              |\n",
      "|0           |0              |\n",
      "|0           |0              |\n",
      "|0           |0              |\n",
      "|1           |1              |\n",
      "|1           |0              |\n",
      "------------------------------\n",
      "\n"
     ]
    }
   ],
   "source": [
    "# Use the model to make predictions.\n",
    "v1_rf_training_prediction_df = v1_rf.predict(v1_training_df)\n",
    "v1_rf_training_prediction_df[LABEL_COLS[0], OUTPUT_COLS[0]].show()"
   ]
  },
  {
   "cell_type": "markdown",
   "metadata": {},
   "source": [
    "### Calculate Prediction Accuracy on Training Data"
   ]
  },
  {
   "cell_type": "code",
   "execution_count": 44,
   "metadata": {},
   "outputs": [
    {
     "name": "stderr",
     "output_type": "stream",
     "text": [
      "INFO:__main__:RandomForestClassifier v1 accuracy_score on training data: 0.836139\n",
      "INFO:__main__:RandomForestClassifier v1 confusion_matrix on training data: [[496.  53.]\n",
      " [ 93. 249.]]\n"
     ]
    }
   ],
   "source": [
    "from snowflake.ml.modeling.metrics import accuracy_score, confusion_matrix\n",
    "\n",
    "v1_rf_training_accuracy_score = accuracy_score(\n",
    "    df=v1_rf_training_prediction_df,\n",
    "    y_true_col_names=LABEL_COLS,\n",
    "    y_pred_col_names=OUTPUT_COLS\n",
    ")\n",
    "log.info(f\"RandomForestClassifier v1 accuracy_score on training data: {v1_rf_training_accuracy_score}\")\n",
    "\n",
    "v1_rf_training_confusion_matrix = confusion_matrix(\n",
    "    df=v1_rf_training_prediction_df,\n",
    "    y_true_col_name=LABEL_COLS[0],\n",
    "    y_pred_col_name=OUTPUT_COLS[0]\n",
    ")\n",
    "log.info(f\"RandomForestClassifier v1 confusion_matrix on training data: {v1_rf_training_confusion_matrix}\")"
   ]
  },
  {
   "cell_type": "markdown",
   "metadata": {},
   "source": [
    "## Logging RandomForestClassifier V1 to Model Registry\n",
    "Mandatory arguments:\n",
    "* `model`: It's the serializable/pickleable Python model object\n",
    "* `model_name`: The name of the model (can't be changed)\n",
    "* `version_name`: A string with the version of the model. Quick note:- `version_name=\"1\"` is not supported but `version_name=\"v1\"` is.\n",
    "\n",
    "\n",
    "Other important info:\n",
    "* The combination of `model_name` and `version_name` must be unique in the schema.\n",
    "* The `model_name` cannot have dash (-) in it.\n",
    "* Sometimes it's necessary to mention Python dependenies through the `conda_dependencies` or `pip_requirements` or both arguments."
   ]
  },
  {
   "cell_type": "code",
   "execution_count": 45,
   "metadata": {},
   "outputs": [
    {
     "name": "stderr",
     "output_type": "stream",
     "text": [
      "INFO:snowflake.ml.registry._manager.model_manager:Start packaging and uploading your model. It might take some time based on the size of the model.\n",
      "INFO:absl:Model signatures are auto inferred as:\n",
      "\n",
      "{'predict': ModelSignature(\n",
      "                    inputs=[\n",
      "                        FeatureSpec(dtype=DataType.INT8, name='PCLASS'),\n",
      "\t\tFeatureSpec(dtype=DataType.INT8, name='SIBSP'),\n",
      "\t\tFeatureSpec(dtype=DataType.INT8, name='PARCH'),\n",
      "\t\tFeatureSpec(dtype=DataType.DOUBLE, name='FARE')\n",
      "                    ],\n",
      "                    outputs=[\n",
      "                        FeatureSpec(dtype=DataType.INT8, name='PCLASS'),\n",
      "\t\tFeatureSpec(dtype=DataType.INT8, name='SIBSP'),\n",
      "\t\tFeatureSpec(dtype=DataType.INT8, name='PARCH'),\n",
      "\t\tFeatureSpec(dtype=DataType.DOUBLE, name='FARE'),\n",
      "\t\tFeatureSpec(dtype=DataType.INT8, name='PREDICTIONS')\n",
      "                    ]\n",
      "                ), 'predict_log_proba': ModelSignature(\n",
      "                    inputs=[\n",
      "                        FeatureSpec(dtype=DataType.INT8, name='PCLASS'),\n",
      "\t\tFeatureSpec(dtype=DataType.INT8, name='SIBSP'),\n",
      "\t\tFeatureSpec(dtype=DataType.INT8, name='PARCH'),\n",
      "\t\tFeatureSpec(dtype=DataType.DOUBLE, name='FARE')\n",
      "                    ],\n",
      "                    outputs=[\n",
      "                        FeatureSpec(dtype=DataType.INT8, name='PCLASS'),\n",
      "\t\tFeatureSpec(dtype=DataType.INT8, name='SIBSP'),\n",
      "\t\tFeatureSpec(dtype=DataType.INT8, name='PARCH'),\n",
      "\t\tFeatureSpec(dtype=DataType.DOUBLE, name='FARE'),\n",
      "\t\tFeatureSpec(dtype=DataType.DOUBLE, name='PREDICT_LOG_PROBA_0'),\n",
      "\t\tFeatureSpec(dtype=DataType.DOUBLE, name='PREDICT_LOG_PROBA_1')\n",
      "                    ]\n",
      "                ), 'predict_proba': ModelSignature(\n",
      "                    inputs=[\n",
      "                        FeatureSpec(dtype=DataType.INT8, name='PCLASS'),\n",
      "\t\tFeatureSpec(dtype=DataType.INT8, name='SIBSP'),\n",
      "\t\tFeatureSpec(dtype=DataType.INT8, name='PARCH'),\n",
      "\t\tFeatureSpec(dtype=DataType.DOUBLE, name='FARE')\n",
      "                    ],\n",
      "                    outputs=[\n",
      "                        FeatureSpec(dtype=DataType.INT8, name='PCLASS'),\n",
      "\t\tFeatureSpec(dtype=DataType.INT8, name='SIBSP'),\n",
      "\t\tFeatureSpec(dtype=DataType.INT8, name='PARCH'),\n",
      "\t\tFeatureSpec(dtype=DataType.DOUBLE, name='FARE'),\n",
      "\t\tFeatureSpec(dtype=DataType.DOUBLE, name='PREDICT_PROBA_0'),\n",
      "\t\tFeatureSpec(dtype=DataType.DOUBLE, name='PREDICT_PROBA_1')\n",
      "                    ]\n",
      "                )}\n",
      "INFO:snowflake.ml.registry._manager.model_manager:Start creating MODEL object for you in the Snowflake.\n"
     ]
    }
   ],
   "source": [
    "mv = reg.log_model(\n",
    "    v1_rf,\n",
    "    model_name=\"Titanic_RF\",\n",
    "    version_name=\"v1\",\n",
    "    pip_requirements=[\"packaging\"],\n",
    "    comment=\"Very simple RF model to setup baseline\",\n",
    "    metrics={\n",
    "        \"training_accuracy_score\": v1_rf_training_accuracy_score,\n",
    "        \"training_confusion_matrix\": v1_rf_training_confusion_matrix.tolist()\n",
    "    },\n",
    "    sample_input_data=v1_training_df\n",
    ")"
   ]
  },
  {
   "cell_type": "markdown",
   "metadata": {},
   "source": [
    "## Training Another Model: LinearSVC"
   ]
  },
  {
   "cell_type": "code",
   "execution_count": 46,
   "metadata": {},
   "outputs": [
    {
     "data": {
      "text/plain": [
       "<snowflake.ml.modeling.svm.linear_svc.LinearSVC at 0x7f8a808e1670>"
      ]
     },
     "execution_count": 46,
     "metadata": {},
     "output_type": "execute_result"
    }
   ],
   "source": [
    "from snowflake.ml.modeling.svm import LinearSVC\n",
    "\n",
    "FEATURE_COLS = [\"PCLASS\", \"SIBSP\", \"PARCH\", \"FARE\"]\n",
    "LABEL_COLS = [\"SURVIVED\"]\n",
    "OUTPUT_COLS = [\"PREDICTIONS\"]\n",
    "\n",
    "v1_lsvc = LinearSVC(\n",
    "    input_cols=FEATURE_COLS,\n",
    "    label_cols=LABEL_COLS,\n",
    "    output_cols=OUTPUT_COLS,\n",
    "    dual=False\n",
    ")\n",
    "\n",
    "v1_lsvc.fit(v1_training_df)"
   ]
  },
  {
   "cell_type": "code",
   "execution_count": 47,
   "metadata": {},
   "outputs": [
    {
     "name": "stdout",
     "output_type": "stream",
     "text": [
      "------------------------------\n",
      "|\"SURVIVED\"  |\"PREDICTIONS\"  |\n",
      "------------------------------\n",
      "|0           |0              |\n",
      "|1           |1              |\n",
      "|1           |0              |\n",
      "|1           |1              |\n",
      "|0           |0              |\n",
      "|0           |0              |\n",
      "|0           |1              |\n",
      "|0           |0              |\n",
      "|1           |0              |\n",
      "|1           |0              |\n",
      "------------------------------\n",
      "\n"
     ]
    }
   ],
   "source": [
    "# Use the model to make predictions.\n",
    "v1_lsvc_training_prediction_df = v1_lsvc.predict(v1_training_df)\n",
    "v1_lsvc_training_prediction_df[LABEL_COLS[0], OUTPUT_COLS[0]].show()"
   ]
  },
  {
   "cell_type": "markdown",
   "metadata": {},
   "source": [
    "### Calculate Prediction Accuracy on Training Data"
   ]
  },
  {
   "cell_type": "code",
   "execution_count": 48,
   "metadata": {},
   "outputs": [
    {
     "name": "stderr",
     "output_type": "stream",
     "text": [
      "INFO:__main__:LinearSVC v1 accuracy_score on training data: 0.687991\n",
      "INFO:__main__:LinearSVC v1 confusion_matrix on training data: [[461.  88.]\n",
      " [190. 152.]]\n"
     ]
    }
   ],
   "source": [
    "from snowflake.ml.modeling.metrics import accuracy_score, confusion_matrix\n",
    "v1_lsvc_training_accuracy_score = accuracy_score(\n",
    "    df=v1_lsvc_training_prediction_df,\n",
    "    y_true_col_names=LABEL_COLS,\n",
    "    y_pred_col_names=OUTPUT_COLS\n",
    ")\n",
    "log.info(f\"LinearSVC v1 accuracy_score on training data: {v1_lsvc_training_accuracy_score}\")\n",
    "\n",
    "v1_lsvc_training_confusion_matrix = confusion_matrix(\n",
    "    df=v1_lsvc_training_prediction_df,\n",
    "    y_true_col_name=LABEL_COLS[0],\n",
    "    y_pred_col_name=OUTPUT_COLS[0]\n",
    ")\n",
    "log.info(f\"LinearSVC v1 confusion_matrix on training data: {v1_lsvc_training_confusion_matrix}\")"
   ]
  },
  {
   "cell_type": "markdown",
   "metadata": {},
   "source": [
    "## Logging LinearSVC V1 to Model Registry"
   ]
  },
  {
   "cell_type": "code",
   "execution_count": 49,
   "metadata": {},
   "outputs": [
    {
     "name": "stderr",
     "output_type": "stream",
     "text": [
      "INFO:snowflake.ml.registry._manager.model_manager:Start packaging and uploading your model. It might take some time based on the size of the model.\n",
      "INFO:absl:Model signatures are auto inferred as:\n",
      "\n",
      "{'predict': ModelSignature(\n",
      "                    inputs=[\n",
      "                        FeatureSpec(dtype=DataType.INT8, name='PCLASS'),\n",
      "\t\tFeatureSpec(dtype=DataType.INT8, name='SIBSP'),\n",
      "\t\tFeatureSpec(dtype=DataType.INT8, name='PARCH'),\n",
      "\t\tFeatureSpec(dtype=DataType.DOUBLE, name='FARE')\n",
      "                    ],\n",
      "                    outputs=[\n",
      "                        FeatureSpec(dtype=DataType.INT8, name='PCLASS'),\n",
      "\t\tFeatureSpec(dtype=DataType.INT8, name='SIBSP'),\n",
      "\t\tFeatureSpec(dtype=DataType.INT8, name='PARCH'),\n",
      "\t\tFeatureSpec(dtype=DataType.DOUBLE, name='FARE'),\n",
      "\t\tFeatureSpec(dtype=DataType.INT8, name='PREDICTIONS')\n",
      "                    ]\n",
      "                ), 'decision_function': ModelSignature(\n",
      "                    inputs=[\n",
      "                        FeatureSpec(dtype=DataType.INT8, name='PCLASS'),\n",
      "\t\tFeatureSpec(dtype=DataType.INT8, name='SIBSP'),\n",
      "\t\tFeatureSpec(dtype=DataType.INT8, name='PARCH'),\n",
      "\t\tFeatureSpec(dtype=DataType.DOUBLE, name='FARE')\n",
      "                    ],\n",
      "                    outputs=[\n",
      "                        FeatureSpec(dtype=DataType.INT8, name='PCLASS'),\n",
      "\t\tFeatureSpec(dtype=DataType.INT8, name='SIBSP'),\n",
      "\t\tFeatureSpec(dtype=DataType.INT8, name='PARCH'),\n",
      "\t\tFeatureSpec(dtype=DataType.DOUBLE, name='FARE'),\n",
      "\t\tFeatureSpec(dtype=DataType.DOUBLE, name='DECISION_FUNCTION_0'),\n",
      "\t\tFeatureSpec(dtype=DataType.DOUBLE, name='DECISION_FUNCTION_1')\n",
      "                    ]\n",
      "                )}\n",
      "INFO:snowflake.ml.registry._manager.model_manager:Start creating MODEL object for you in the Snowflake.\n"
     ]
    }
   ],
   "source": [
    "mv = reg.log_model(\n",
    "    v1_lsvc,\n",
    "    model_name=\"Titanic_LinearSVC\",\n",
    "    version_name=\"v1\",\n",
    "    pip_requirements=[\"packaging\"],\n",
    "    comment=\"Very simple LinearSVC model to setup baseline\",\n",
    "    metrics={\n",
    "        \"training_accuracy_score\": v1_lsvc_training_accuracy_score,\n",
    "        \"training_confusion_matrix\": v1_lsvc_training_confusion_matrix.tolist()\n",
    "    },\n",
    "    sample_input_data=v1_training_df\n",
    ")"
   ]
  },
  {
   "cell_type": "markdown",
   "metadata": {},
   "source": [
    "## Training RandomForestClassifier V2"
   ]
  },
  {
   "cell_type": "markdown",
   "metadata": {},
   "source": [
    "### Feature Engineering Transformers"
   ]
  },
  {
   "cell_type": "code",
   "execution_count": 50,
   "metadata": {},
   "outputs": [],
   "source": [
    "from snowflake.snowpark.dataframe import DataFrame, col\n",
    "from snowflake.ml.modeling.preprocessing import OneHotEncoder\n",
    "from snowflake.ml.modeling.impute import SimpleImputer\n",
    "import snowflake.snowpark.functions as snow_func\n",
    "from snowflake.snowpark.session import Session\n",
    "\n",
    "\n",
    "def extract_salutations(session: Session, df: DataFrame) -> DataFrame:\n",
    "    df.write.save_as_table(\n",
    "        table_name='__temp_titanic_train',\n",
    "        mode='overwrite',\n",
    "        table_type='temporary'\n",
    "    )\n",
    "    return session.sql(\n",
    "        \"select *, regexp_substr(name, '\\\\\\w+\\\\\\.') as salutation from __temp_titanic_train\"\n",
    "    )\n",
    "\n",
    "def drop_non_impact_cols(df: DataFrame) -> DataFrame:\n",
    "    return df.drop(['PassengerId', 'Name', 'Ticket', 'Embarked'])\n",
    "\n",
    "def cabin_booked(df: DataFrame) -> DataFrame:\n",
    "    df_cabin = df.with_column(\n",
    "        'Cabin',\n",
    "        snow_func.when(col('Cabin').is_not_null(), 'Y').otherwise('N')\n",
    "    )\n",
    "\n",
    "    return df_cabin\n",
    "\n",
    "def encode_one_hot(df: DataFrame, cat_cols: list, cat_cols_out: list) -> DataFrame:\n",
    "    ohe = OneHotEncoder(\n",
    "        input_cols=cat_cols,\n",
    "        output_cols=cat_cols_out,\n",
    "        drop_input_cols=True\n",
    "    )\n",
    "\n",
    "    ohe.fit(df)\n",
    "    df_encoded = ohe.transform(df)\n",
    "\n",
    "    return df_encoded\n",
    "\n",
    "def fill_missing_values(df: DataFrame, columns: list) -> DataFrame:\n",
    "    sim = SimpleImputer(\n",
    "        strategy='most_frequent',\n",
    "        input_cols=columns,\n",
    "        output_cols=columns\n",
    "    )\n",
    "\n",
    "    sim.fit(df)\n",
    "    df_imputed = sim.transform(df)\n",
    "\n",
    "    return df_imputed"
   ]
  },
  {
   "cell_type": "markdown",
   "metadata": {},
   "source": [
    "### Prepare Training Data"
   ]
  },
  {
   "cell_type": "code",
   "execution_count": 51,
   "metadata": {},
   "outputs": [
    {
     "name": "stderr",
     "output_type": "stream",
     "text": [
      "INFO:__main__:Extract salutations\n",
      "INFO:__main__:Dropping non impact columns\n",
      "INFO:__main__:Converting Cabin column to binary\n",
      "INFO:__main__:Encoding categorical columns\n",
      "INFO:__main__:Filling missing values\n"
     ]
    },
    {
     "name": "stdout",
     "output_type": "stream",
     "text": [
      "---------------------------------------------------------------------------------------------------------------------------------------------------------------------------------------------------------------------------------------------------------------------------------------------------------------------------------------------------------------------------------------------------------------------------------------------------------------------------------------------------------------------------------------------------------------------------------------------------------------------------------------------------------------\n",
      "|\"AGE\"  |\"sex_encoded_female\"  |\"sex_encoded_male\"  |\"cabin_encoded_N\"  |\"cabin_encoded_Y\"  |\"salutation_encoded_Capt.\"  |\"salutation_encoded_Col.\"  |\"salutation_encoded_Countess.\"  |\"salutation_encoded_Don.\"  |\"salutation_encoded_Dr.\"  |\"salutation_encoded_Jonkheer.\"  |\"salutation_encoded_Lady.\"  |\"salutation_encoded_Major.\"  |\"salutation_encoded_Master.\"  |\"salutation_encoded_Miss.\"  |\"salutation_encoded_Mlle.\"  |\"salutation_encoded_Mme.\"  |\"salutation_encoded_Mr.\"  |\"salutation_encoded_Mrs.\"  |\"salutation_encoded_Ms.\"  |\"salutation_encoded_Rev.\"  |\"salutation_encoded_Sir.\"  |\"SURVIVED\"  |\"PCLASS\"  |\"SIBSP\"  |\"PARCH\"  |\"FARE\"   |\n",
      "---------------------------------------------------------------------------------------------------------------------------------------------------------------------------------------------------------------------------------------------------------------------------------------------------------------------------------------------------------------------------------------------------------------------------------------------------------------------------------------------------------------------------------------------------------------------------------------------------------------------------------------------------------------\n",
      "|22.0   |0.0                   |1.0                 |1.0                |0.0                |0.0                         |0.0                        |0.0                             |0.0                        |0.0                       |0.0                             |0.0                         |0.0                          |0.0                           |0.0                         |0.0                         |0.0                        |1.0                       |0.0                        |0.0                       |0.0                        |0.0                        |0           |3         |1        |0        |7.25     |\n",
      "|38.0   |1.0                   |0.0                 |0.0                |1.0                |0.0                         |0.0                        |0.0                             |0.0                        |0.0                       |0.0                             |0.0                         |0.0                          |0.0                           |0.0                         |0.0                         |0.0                        |0.0                       |1.0                        |0.0                       |0.0                        |0.0                        |1           |1         |1        |0        |71.2833  |\n",
      "|26.0   |1.0                   |0.0                 |1.0                |0.0                |0.0                         |0.0                        |0.0                             |0.0                        |0.0                       |0.0                             |0.0                         |0.0                          |0.0                           |1.0                         |0.0                         |0.0                        |0.0                       |0.0                        |0.0                       |0.0                        |0.0                        |1           |3         |0        |0        |7.925    |\n",
      "|35.0   |1.0                   |0.0                 |0.0                |1.0                |0.0                         |0.0                        |0.0                             |0.0                        |0.0                       |0.0                             |0.0                         |0.0                          |0.0                           |0.0                         |0.0                         |0.0                        |0.0                       |1.0                        |0.0                       |0.0                        |0.0                        |1           |1         |1        |0        |53.1     |\n",
      "|35.0   |0.0                   |1.0                 |1.0                |0.0                |0.0                         |0.0                        |0.0                             |0.0                        |0.0                       |0.0                             |0.0                         |0.0                          |0.0                           |0.0                         |0.0                         |0.0                        |1.0                       |0.0                        |0.0                       |0.0                        |0.0                        |0           |3         |0        |0        |8.05     |\n",
      "|24.0   |0.0                   |1.0                 |1.0                |0.0                |0.0                         |0.0                        |0.0                             |0.0                        |0.0                       |0.0                             |0.0                         |0.0                          |0.0                           |0.0                         |0.0                         |0.0                        |1.0                       |0.0                        |0.0                       |0.0                        |0.0                        |0           |3         |0        |0        |8.4583   |\n",
      "|54.0   |0.0                   |1.0                 |0.0                |1.0                |0.0                         |0.0                        |0.0                             |0.0                        |0.0                       |0.0                             |0.0                         |0.0                          |0.0                           |0.0                         |0.0                         |0.0                        |1.0                       |0.0                        |0.0                       |0.0                        |0.0                        |0           |1         |0        |0        |51.8625  |\n",
      "|2.0    |0.0                   |1.0                 |1.0                |0.0                |0.0                         |0.0                        |0.0                             |0.0                        |0.0                       |0.0                             |0.0                         |0.0                          |1.0                           |0.0                         |0.0                         |0.0                        |0.0                       |0.0                        |0.0                       |0.0                        |0.0                        |0           |3         |3        |1        |21.075   |\n",
      "|27.0   |1.0                   |0.0                 |1.0                |0.0                |0.0                         |0.0                        |0.0                             |0.0                        |0.0                       |0.0                             |0.0                         |0.0                          |0.0                           |0.0                         |0.0                         |0.0                        |0.0                       |1.0                        |0.0                       |0.0                        |0.0                        |1           |3         |0        |2        |11.1333  |\n",
      "|14.0   |1.0                   |0.0                 |1.0                |0.0                |0.0                         |0.0                        |0.0                             |0.0                        |0.0                       |0.0                             |0.0                         |0.0                          |0.0                           |0.0                         |0.0                         |0.0                        |0.0                       |1.0                        |0.0                       |0.0                        |0.0                        |1           |2         |1        |0        |30.0708  |\n",
      "---------------------------------------------------------------------------------------------------------------------------------------------------------------------------------------------------------------------------------------------------------------------------------------------------------------------------------------------------------------------------------------------------------------------------------------------------------------------------------------------------------------------------------------------------------------------------------------------------------------------------------------------------------------\n",
      "\n"
     ]
    }
   ],
   "source": [
    "log.info(\"Extract salutations\")\n",
    "salutation_df = extract_salutations(session, training_input_df)\n",
    "\n",
    "log.info(\"Dropping non impact columns\")\n",
    "dropped_col_df = drop_non_impact_cols(df=salutation_df)\n",
    "\n",
    "log.info(\"Converting Cabin column to binary\")\n",
    "cabin_df = cabin_booked(dropped_col_df)\n",
    "\n",
    "log.info(\"Encoding categorical columns\")\n",
    "cat_cols = ['sex', 'cabin', 'salutation']\n",
    "cat_cols_out = [f'{c}_encoded' for c in cat_cols]\n",
    "encoded_df = encode_one_hot(cabin_df, cat_cols, cat_cols_out)\n",
    "\n",
    "log.info(\"Filling missing values\")\n",
    "cols_missing_values = ['AGE']\n",
    "v2_training_df = fill_missing_values(encoded_df, cols_missing_values)\n",
    "v2_training_df.show()"
   ]
  },
  {
   "cell_type": "markdown",
   "metadata": {},
   "source": [
    "### Prepare Test Data"
   ]
  },
  {
   "cell_type": "code",
   "execution_count": 52,
   "metadata": {},
   "outputs": [
    {
     "name": "stderr",
     "output_type": "stream",
     "text": [
      "INFO:__main__:Extract salutations\n",
      "INFO:__main__:Dropping non impact columns\n",
      "INFO:__main__:Converting Cabin column to binary\n",
      "INFO:__main__:Encoding categorical columns\n",
      "INFO:__main__:Filling missing values\n"
     ]
    },
    {
     "name": "stdout",
     "output_type": "stream",
     "text": [
      "---------------------------------------------------------------------------------------------------------------------------------------------------------------------------------------------------------------------------------------------------------------------------------------------------------------------------------------------------------------------------------------------------------------------------------------------------------------------------------------------------------------------------------------------------------------------------------------------------------------------------------------------------------------\n",
      "|\"AGE\"  |\"sex_encoded_female\"  |\"sex_encoded_male\"  |\"cabin_encoded_N\"  |\"cabin_encoded_Y\"  |\"salutation_encoded_Capt.\"  |\"salutation_encoded_Col.\"  |\"salutation_encoded_Countess.\"  |\"salutation_encoded_Don.\"  |\"salutation_encoded_Dr.\"  |\"salutation_encoded_Jonkheer.\"  |\"salutation_encoded_Lady.\"  |\"salutation_encoded_Major.\"  |\"salutation_encoded_Master.\"  |\"salutation_encoded_Miss.\"  |\"salutation_encoded_Mlle.\"  |\"salutation_encoded_Mme.\"  |\"salutation_encoded_Mr.\"  |\"salutation_encoded_Mrs.\"  |\"salutation_encoded_Ms.\"  |\"salutation_encoded_Rev.\"  |\"salutation_encoded_Sir.\"  |\"SURVIVED\"  |\"PCLASS\"  |\"SIBSP\"  |\"PARCH\"  |\"FARE\"   |\n",
      "---------------------------------------------------------------------------------------------------------------------------------------------------------------------------------------------------------------------------------------------------------------------------------------------------------------------------------------------------------------------------------------------------------------------------------------------------------------------------------------------------------------------------------------------------------------------------------------------------------------------------------------------------------------\n",
      "|22.0   |0.0                   |1.0                 |1.0                |0.0                |0.0                         |0.0                        |0.0                             |0.0                        |0.0                       |0.0                             |0.0                         |0.0                          |0.0                           |0.0                         |0.0                         |0.0                        |1.0                       |0.0                        |0.0                       |0.0                        |0.0                        |0           |3         |1        |0        |7.25     |\n",
      "|38.0   |1.0                   |0.0                 |0.0                |1.0                |0.0                         |0.0                        |0.0                             |0.0                        |0.0                       |0.0                             |0.0                         |0.0                          |0.0                           |0.0                         |0.0                         |0.0                        |0.0                       |1.0                        |0.0                       |0.0                        |0.0                        |1           |1         |1        |0        |71.2833  |\n",
      "|26.0   |1.0                   |0.0                 |1.0                |0.0                |0.0                         |0.0                        |0.0                             |0.0                        |0.0                       |0.0                             |0.0                         |0.0                          |0.0                           |1.0                         |0.0                         |0.0                        |0.0                       |0.0                        |0.0                       |0.0                        |0.0                        |1           |3         |0        |0        |7.925    |\n",
      "|35.0   |1.0                   |0.0                 |0.0                |1.0                |0.0                         |0.0                        |0.0                             |0.0                        |0.0                       |0.0                             |0.0                         |0.0                          |0.0                           |0.0                         |0.0                         |0.0                        |0.0                       |1.0                        |0.0                       |0.0                        |0.0                        |1           |1         |1        |0        |53.1     |\n",
      "|35.0   |0.0                   |1.0                 |1.0                |0.0                |0.0                         |0.0                        |0.0                             |0.0                        |0.0                       |0.0                             |0.0                         |0.0                          |0.0                           |0.0                         |0.0                         |0.0                        |1.0                       |0.0                        |0.0                       |0.0                        |0.0                        |0           |3         |0        |0        |8.05     |\n",
      "|24.0   |0.0                   |1.0                 |1.0                |0.0                |0.0                         |0.0                        |0.0                             |0.0                        |0.0                       |0.0                             |0.0                         |0.0                          |0.0                           |0.0                         |0.0                         |0.0                        |1.0                       |0.0                        |0.0                       |0.0                        |0.0                        |0           |3         |0        |0        |8.4583   |\n",
      "|54.0   |0.0                   |1.0                 |0.0                |1.0                |0.0                         |0.0                        |0.0                             |0.0                        |0.0                       |0.0                             |0.0                         |0.0                          |0.0                           |0.0                         |0.0                         |0.0                        |1.0                       |0.0                        |0.0                       |0.0                        |0.0                        |0           |1         |0        |0        |51.8625  |\n",
      "|2.0    |0.0                   |1.0                 |1.0                |0.0                |0.0                         |0.0                        |0.0                             |0.0                        |0.0                       |0.0                             |0.0                         |0.0                          |1.0                           |0.0                         |0.0                         |0.0                        |0.0                       |0.0                        |0.0                       |0.0                        |0.0                        |0           |3         |3        |1        |21.075   |\n",
      "|27.0   |1.0                   |0.0                 |1.0                |0.0                |0.0                         |0.0                        |0.0                             |0.0                        |0.0                       |0.0                             |0.0                         |0.0                          |0.0                           |0.0                         |0.0                         |0.0                        |0.0                       |1.0                        |0.0                       |0.0                        |0.0                        |1           |3         |0        |2        |11.1333  |\n",
      "|14.0   |1.0                   |0.0                 |1.0                |0.0                |0.0                         |0.0                        |0.0                             |0.0                        |0.0                       |0.0                             |0.0                         |0.0                          |0.0                           |0.0                         |0.0                         |0.0                        |0.0                       |1.0                        |0.0                       |0.0                        |0.0                        |1           |2         |1        |0        |30.0708  |\n",
      "---------------------------------------------------------------------------------------------------------------------------------------------------------------------------------------------------------------------------------------------------------------------------------------------------------------------------------------------------------------------------------------------------------------------------------------------------------------------------------------------------------------------------------------------------------------------------------------------------------------------------------------------------------------\n",
      "\n"
     ]
    }
   ],
   "source": [
    "log.info(\"Extract salutations\")\n",
    "salutation_df = extract_salutations(session, test_input_df)\n",
    "\n",
    "log.info(\"Dropping non impact columns\")\n",
    "dropped_col_df = drop_non_impact_cols(df=salutation_df)\n",
    "\n",
    "log.info(\"Converting Cabin column to binary\")\n",
    "cabin_df = cabin_booked(dropped_col_df)\n",
    "\n",
    "log.info(\"Encoding categorical columns\")\n",
    "cat_cols = ['sex', 'cabin', 'salutation']\n",
    "cat_cols_out = [f'{c}_encoded' for c in cat_cols]\n",
    "encoded_df = encode_one_hot(cabin_df, cat_cols, cat_cols_out)\n",
    "\n",
    "log.info(\"Filling missing values\")\n",
    "cols_missing_values = ['AGE']\n",
    "v2_test_df = fill_missing_values(encoded_df, cols_missing_values)\n",
    "v2_test_df.show()"
   ]
  },
  {
   "cell_type": "markdown",
   "metadata": {},
   "source": [
    "### Train the Model"
   ]
  },
  {
   "cell_type": "code",
   "execution_count": 53,
   "metadata": {},
   "outputs": [
    {
     "data": {
      "text/plain": [
       "<snowflake.ml.modeling.ensemble.random_forest_classifier.RandomForestClassifier at 0x7f8a805a2fd0>"
      ]
     },
     "execution_count": 53,
     "metadata": {},
     "output_type": "execute_result"
    }
   ],
   "source": [
    "V2_FEATURE_COLS = [c for c in v2_training_df.columns if not c.startswith(\"SURVIVED\")]\n",
    "LABEL_COLS = [\"SURVIVED\"]\n",
    "OUTPUT_COLS = [\"PREDICTIONS\"]\n",
    "\n",
    "v2_rf = RandomForestClassifier(\n",
    "    input_cols=V2_FEATURE_COLS,\n",
    "    label_cols=LABEL_COLS,\n",
    "    output_cols=OUTPUT_COLS\n",
    ")\n",
    "\n",
    "v2_rf.fit(v2_training_df)"
   ]
  },
  {
   "cell_type": "code",
   "execution_count": 54,
   "metadata": {},
   "outputs": [
    {
     "name": "stdout",
     "output_type": "stream",
     "text": [
      "------------------------------\n",
      "|\"SURVIVED\"  |\"PREDICTIONS\"  |\n",
      "------------------------------\n",
      "|0           |0              |\n",
      "|1           |1              |\n",
      "|1           |1              |\n",
      "|1           |1              |\n",
      "|0           |0              |\n",
      "|0           |0              |\n",
      "|0           |0              |\n",
      "|0           |0              |\n",
      "|1           |1              |\n",
      "|1           |1              |\n",
      "------------------------------\n",
      "\n"
     ]
    }
   ],
   "source": [
    "# Use the model to make predictions.\n",
    "v2_rf_training_prediction_df = v2_rf.predict(v2_training_df)\n",
    "v2_rf_training_prediction_df[LABEL_COLS[0], OUTPUT_COLS[0]].show()"
   ]
  },
  {
   "cell_type": "markdown",
   "metadata": {},
   "source": [
    "### Calculate Prediction Accuracy on Training Data"
   ]
  },
  {
   "cell_type": "code",
   "execution_count": 55,
   "metadata": {},
   "outputs": [
    {
     "name": "stderr",
     "output_type": "stream",
     "text": [
      "INFO:__main__:RandomForestClassifier v2 accuracy_score on training data: 0.986532\n",
      "INFO:__main__:RandomForestClassifier v2 confusion_matrix on training data: [[546.   3.]\n",
      " [  9. 333.]]\n"
     ]
    }
   ],
   "source": [
    "from snowflake.ml.modeling.metrics import accuracy_score, confusion_matrix\n",
    "\n",
    "v2_rf_training_accuracy_score = accuracy_score(\n",
    "    df=v2_rf_training_prediction_df,\n",
    "    y_true_col_names=LABEL_COLS,\n",
    "    y_pred_col_names=OUTPUT_COLS\n",
    ")\n",
    "log.info(f\"RandomForestClassifier v2 accuracy_score on training data: {v2_rf_training_accuracy_score}\")\n",
    "\n",
    "v2_rf_training_confusion_matrix = confusion_matrix(\n",
    "    df=v2_rf_training_prediction_df,\n",
    "    y_true_col_name=LABEL_COLS[0],\n",
    "    y_pred_col_name=OUTPUT_COLS[0]\n",
    ")\n",
    "log.info(f\"RandomForestClassifier v2 confusion_matrix on training data: {v2_rf_training_confusion_matrix}\")"
   ]
  },
  {
   "cell_type": "markdown",
   "metadata": {},
   "source": [
    "### Logging the V2 Model"
   ]
  },
  {
   "cell_type": "code",
   "execution_count": 56,
   "metadata": {},
   "outputs": [
    {
     "name": "stderr",
     "output_type": "stream",
     "text": [
      "INFO:snowflake.ml.registry._manager.model_manager:Start packaging and uploading your model. It might take some time based on the size of the model.\n",
      "INFO:absl:Model signatures are auto inferred as:\n",
      "\n",
      "{'predict': ModelSignature(\n",
      "                    inputs=[\n",
      "                        FeatureSpec(dtype=DataType.DOUBLE, name='AGE'),\n",
      "\t\tFeatureSpec(dtype=DataType.DOUBLE, name='\"sex_encoded_female\"'),\n",
      "\t\tFeatureSpec(dtype=DataType.DOUBLE, name='\"sex_encoded_male\"'),\n",
      "\t\tFeatureSpec(dtype=DataType.DOUBLE, name='\"cabin_encoded_N\"'),\n",
      "\t\tFeatureSpec(dtype=DataType.DOUBLE, name='\"cabin_encoded_Y\"'),\n",
      "\t\tFeatureSpec(dtype=DataType.DOUBLE, name='\"salutation_encoded_Capt.\"'),\n",
      "\t\tFeatureSpec(dtype=DataType.DOUBLE, name='\"salutation_encoded_Col.\"'),\n",
      "\t\tFeatureSpec(dtype=DataType.DOUBLE, name='\"salutation_encoded_Countess.\"'),\n",
      "\t\tFeatureSpec(dtype=DataType.DOUBLE, name='\"salutation_encoded_Don.\"'),\n",
      "\t\tFeatureSpec(dtype=DataType.DOUBLE, name='\"salutation_encoded_Dr.\"'),\n",
      "\t\tFeatureSpec(dtype=DataType.DOUBLE, name='\"salutation_encoded_Jonkheer.\"'),\n",
      "\t\tFeatureSpec(dtype=DataType.DOUBLE, name='\"salutation_encoded_Lady.\"'),\n",
      "\t\tFeatureSpec(dtype=DataType.DOUBLE, name='\"salutation_encoded_Major.\"'),\n",
      "\t\tFeatureSpec(dtype=DataType.DOUBLE, name='\"salutation_encoded_Master.\"'),\n",
      "\t\tFeatureSpec(dtype=DataType.DOUBLE, name='\"salutation_encoded_Miss.\"'),\n",
      "\t\tFeatureSpec(dtype=DataType.DOUBLE, name='\"salutation_encoded_Mlle.\"'),\n",
      "\t\tFeatureSpec(dtype=DataType.DOUBLE, name='\"salutation_encoded_Mme.\"'),\n",
      "\t\tFeatureSpec(dtype=DataType.DOUBLE, name='\"salutation_encoded_Mr.\"'),\n",
      "\t\tFeatureSpec(dtype=DataType.DOUBLE, name='\"salutation_encoded_Mrs.\"'),\n",
      "\t\tFeatureSpec(dtype=DataType.DOUBLE, name='\"salutation_encoded_Ms.\"'),\n",
      "\t\tFeatureSpec(dtype=DataType.DOUBLE, name='\"salutation_encoded_Rev.\"'),\n",
      "\t\tFeatureSpec(dtype=DataType.DOUBLE, name='\"salutation_encoded_Sir.\"'),\n",
      "\t\tFeatureSpec(dtype=DataType.INT8, name='PCLASS'),\n",
      "\t\tFeatureSpec(dtype=DataType.INT8, name='SIBSP'),\n",
      "\t\tFeatureSpec(dtype=DataType.INT8, name='PARCH'),\n",
      "\t\tFeatureSpec(dtype=DataType.DOUBLE, name='FARE')\n",
      "                    ],\n",
      "                    outputs=[\n",
      "                        FeatureSpec(dtype=DataType.DOUBLE, name='AGE'),\n",
      "\t\tFeatureSpec(dtype=DataType.DOUBLE, name='\"sex_encoded_female\"'),\n",
      "\t\tFeatureSpec(dtype=DataType.DOUBLE, name='\"sex_encoded_male\"'),\n",
      "\t\tFeatureSpec(dtype=DataType.DOUBLE, name='\"cabin_encoded_N\"'),\n",
      "\t\tFeatureSpec(dtype=DataType.DOUBLE, name='\"cabin_encoded_Y\"'),\n",
      "\t\tFeatureSpec(dtype=DataType.DOUBLE, name='\"salutation_encoded_Capt.\"'),\n",
      "\t\tFeatureSpec(dtype=DataType.DOUBLE, name='\"salutation_encoded_Col.\"'),\n",
      "\t\tFeatureSpec(dtype=DataType.DOUBLE, name='\"salutation_encoded_Countess.\"'),\n",
      "\t\tFeatureSpec(dtype=DataType.DOUBLE, name='\"salutation_encoded_Don.\"'),\n",
      "\t\tFeatureSpec(dtype=DataType.DOUBLE, name='\"salutation_encoded_Dr.\"'),\n",
      "\t\tFeatureSpec(dtype=DataType.DOUBLE, name='\"salutation_encoded_Jonkheer.\"'),\n",
      "\t\tFeatureSpec(dtype=DataType.DOUBLE, name='\"salutation_encoded_Lady.\"'),\n",
      "\t\tFeatureSpec(dtype=DataType.DOUBLE, name='\"salutation_encoded_Major.\"'),\n",
      "\t\tFeatureSpec(dtype=DataType.DOUBLE, name='\"salutation_encoded_Master.\"'),\n",
      "\t\tFeatureSpec(dtype=DataType.DOUBLE, name='\"salutation_encoded_Miss.\"'),\n",
      "\t\tFeatureSpec(dtype=DataType.DOUBLE, name='\"salutation_encoded_Mlle.\"'),\n",
      "\t\tFeatureSpec(dtype=DataType.DOUBLE, name='\"salutation_encoded_Mme.\"'),\n",
      "\t\tFeatureSpec(dtype=DataType.DOUBLE, name='\"salutation_encoded_Mr.\"'),\n",
      "\t\tFeatureSpec(dtype=DataType.DOUBLE, name='\"salutation_encoded_Mrs.\"'),\n",
      "\t\tFeatureSpec(dtype=DataType.DOUBLE, name='\"salutation_encoded_Ms.\"'),\n",
      "\t\tFeatureSpec(dtype=DataType.DOUBLE, name='\"salutation_encoded_Rev.\"'),\n",
      "\t\tFeatureSpec(dtype=DataType.DOUBLE, name='\"salutation_encoded_Sir.\"'),\n",
      "\t\tFeatureSpec(dtype=DataType.INT8, name='PCLASS'),\n",
      "\t\tFeatureSpec(dtype=DataType.INT8, name='SIBSP'),\n",
      "\t\tFeatureSpec(dtype=DataType.INT8, name='PARCH'),\n",
      "\t\tFeatureSpec(dtype=DataType.DOUBLE, name='FARE'),\n",
      "\t\tFeatureSpec(dtype=DataType.INT8, name='PREDICTIONS')\n",
      "                    ]\n",
      "                ), 'predict_log_proba': ModelSignature(\n",
      "                    inputs=[\n",
      "                        FeatureSpec(dtype=DataType.DOUBLE, name='AGE'),\n",
      "\t\tFeatureSpec(dtype=DataType.DOUBLE, name='\"sex_encoded_female\"'),\n",
      "\t\tFeatureSpec(dtype=DataType.DOUBLE, name='\"sex_encoded_male\"'),\n",
      "\t\tFeatureSpec(dtype=DataType.DOUBLE, name='\"cabin_encoded_N\"'),\n",
      "\t\tFeatureSpec(dtype=DataType.DOUBLE, name='\"cabin_encoded_Y\"'),\n",
      "\t\tFeatureSpec(dtype=DataType.DOUBLE, name='\"salutation_encoded_Capt.\"'),\n",
      "\t\tFeatureSpec(dtype=DataType.DOUBLE, name='\"salutation_encoded_Col.\"'),\n",
      "\t\tFeatureSpec(dtype=DataType.DOUBLE, name='\"salutation_encoded_Countess.\"'),\n",
      "\t\tFeatureSpec(dtype=DataType.DOUBLE, name='\"salutation_encoded_Don.\"'),\n",
      "\t\tFeatureSpec(dtype=DataType.DOUBLE, name='\"salutation_encoded_Dr.\"'),\n",
      "\t\tFeatureSpec(dtype=DataType.DOUBLE, name='\"salutation_encoded_Jonkheer.\"'),\n",
      "\t\tFeatureSpec(dtype=DataType.DOUBLE, name='\"salutation_encoded_Lady.\"'),\n",
      "\t\tFeatureSpec(dtype=DataType.DOUBLE, name='\"salutation_encoded_Major.\"'),\n",
      "\t\tFeatureSpec(dtype=DataType.DOUBLE, name='\"salutation_encoded_Master.\"'),\n",
      "\t\tFeatureSpec(dtype=DataType.DOUBLE, name='\"salutation_encoded_Miss.\"'),\n",
      "\t\tFeatureSpec(dtype=DataType.DOUBLE, name='\"salutation_encoded_Mlle.\"'),\n",
      "\t\tFeatureSpec(dtype=DataType.DOUBLE, name='\"salutation_encoded_Mme.\"'),\n",
      "\t\tFeatureSpec(dtype=DataType.DOUBLE, name='\"salutation_encoded_Mr.\"'),\n",
      "\t\tFeatureSpec(dtype=DataType.DOUBLE, name='\"salutation_encoded_Mrs.\"'),\n",
      "\t\tFeatureSpec(dtype=DataType.DOUBLE, name='\"salutation_encoded_Ms.\"'),\n",
      "\t\tFeatureSpec(dtype=DataType.DOUBLE, name='\"salutation_encoded_Rev.\"'),\n",
      "\t\tFeatureSpec(dtype=DataType.DOUBLE, name='\"salutation_encoded_Sir.\"'),\n",
      "\t\tFeatureSpec(dtype=DataType.INT8, name='PCLASS'),\n",
      "\t\tFeatureSpec(dtype=DataType.INT8, name='SIBSP'),\n",
      "\t\tFeatureSpec(dtype=DataType.INT8, name='PARCH'),\n",
      "\t\tFeatureSpec(dtype=DataType.DOUBLE, name='FARE')\n",
      "                    ],\n",
      "                    outputs=[\n",
      "                        FeatureSpec(dtype=DataType.DOUBLE, name='AGE'),\n",
      "\t\tFeatureSpec(dtype=DataType.DOUBLE, name='\"sex_encoded_female\"'),\n",
      "\t\tFeatureSpec(dtype=DataType.DOUBLE, name='\"sex_encoded_male\"'),\n",
      "\t\tFeatureSpec(dtype=DataType.DOUBLE, name='\"cabin_encoded_N\"'),\n",
      "\t\tFeatureSpec(dtype=DataType.DOUBLE, name='\"cabin_encoded_Y\"'),\n",
      "\t\tFeatureSpec(dtype=DataType.DOUBLE, name='\"salutation_encoded_Capt.\"'),\n",
      "\t\tFeatureSpec(dtype=DataType.DOUBLE, name='\"salutation_encoded_Col.\"'),\n",
      "\t\tFeatureSpec(dtype=DataType.DOUBLE, name='\"salutation_encoded_Countess.\"'),\n",
      "\t\tFeatureSpec(dtype=DataType.DOUBLE, name='\"salutation_encoded_Don.\"'),\n",
      "\t\tFeatureSpec(dtype=DataType.DOUBLE, name='\"salutation_encoded_Dr.\"'),\n",
      "\t\tFeatureSpec(dtype=DataType.DOUBLE, name='\"salutation_encoded_Jonkheer.\"'),\n",
      "\t\tFeatureSpec(dtype=DataType.DOUBLE, name='\"salutation_encoded_Lady.\"'),\n",
      "\t\tFeatureSpec(dtype=DataType.DOUBLE, name='\"salutation_encoded_Major.\"'),\n",
      "\t\tFeatureSpec(dtype=DataType.DOUBLE, name='\"salutation_encoded_Master.\"'),\n",
      "\t\tFeatureSpec(dtype=DataType.DOUBLE, name='\"salutation_encoded_Miss.\"'),\n",
      "\t\tFeatureSpec(dtype=DataType.DOUBLE, name='\"salutation_encoded_Mlle.\"'),\n",
      "\t\tFeatureSpec(dtype=DataType.DOUBLE, name='\"salutation_encoded_Mme.\"'),\n",
      "\t\tFeatureSpec(dtype=DataType.DOUBLE, name='\"salutation_encoded_Mr.\"'),\n",
      "\t\tFeatureSpec(dtype=DataType.DOUBLE, name='\"salutation_encoded_Mrs.\"'),\n",
      "\t\tFeatureSpec(dtype=DataType.DOUBLE, name='\"salutation_encoded_Ms.\"'),\n",
      "\t\tFeatureSpec(dtype=DataType.DOUBLE, name='\"salutation_encoded_Rev.\"'),\n",
      "\t\tFeatureSpec(dtype=DataType.DOUBLE, name='\"salutation_encoded_Sir.\"'),\n",
      "\t\tFeatureSpec(dtype=DataType.INT8, name='PCLASS'),\n",
      "\t\tFeatureSpec(dtype=DataType.INT8, name='SIBSP'),\n",
      "\t\tFeatureSpec(dtype=DataType.INT8, name='PARCH'),\n",
      "\t\tFeatureSpec(dtype=DataType.DOUBLE, name='FARE'),\n",
      "\t\tFeatureSpec(dtype=DataType.DOUBLE, name='PREDICT_LOG_PROBA_0'),\n",
      "\t\tFeatureSpec(dtype=DataType.DOUBLE, name='PREDICT_LOG_PROBA_1')\n",
      "                    ]\n",
      "                ), 'predict_proba': ModelSignature(\n",
      "                    inputs=[\n",
      "                        FeatureSpec(dtype=DataType.DOUBLE, name='AGE'),\n",
      "\t\tFeatureSpec(dtype=DataType.DOUBLE, name='\"sex_encoded_female\"'),\n",
      "\t\tFeatureSpec(dtype=DataType.DOUBLE, name='\"sex_encoded_male\"'),\n",
      "\t\tFeatureSpec(dtype=DataType.DOUBLE, name='\"cabin_encoded_N\"'),\n",
      "\t\tFeatureSpec(dtype=DataType.DOUBLE, name='\"cabin_encoded_Y\"'),\n",
      "\t\tFeatureSpec(dtype=DataType.DOUBLE, name='\"salutation_encoded_Capt.\"'),\n",
      "\t\tFeatureSpec(dtype=DataType.DOUBLE, name='\"salutation_encoded_Col.\"'),\n",
      "\t\tFeatureSpec(dtype=DataType.DOUBLE, name='\"salutation_encoded_Countess.\"'),\n",
      "\t\tFeatureSpec(dtype=DataType.DOUBLE, name='\"salutation_encoded_Don.\"'),\n",
      "\t\tFeatureSpec(dtype=DataType.DOUBLE, name='\"salutation_encoded_Dr.\"'),\n",
      "\t\tFeatureSpec(dtype=DataType.DOUBLE, name='\"salutation_encoded_Jonkheer.\"'),\n",
      "\t\tFeatureSpec(dtype=DataType.DOUBLE, name='\"salutation_encoded_Lady.\"'),\n",
      "\t\tFeatureSpec(dtype=DataType.DOUBLE, name='\"salutation_encoded_Major.\"'),\n",
      "\t\tFeatureSpec(dtype=DataType.DOUBLE, name='\"salutation_encoded_Master.\"'),\n",
      "\t\tFeatureSpec(dtype=DataType.DOUBLE, name='\"salutation_encoded_Miss.\"'),\n",
      "\t\tFeatureSpec(dtype=DataType.DOUBLE, name='\"salutation_encoded_Mlle.\"'),\n",
      "\t\tFeatureSpec(dtype=DataType.DOUBLE, name='\"salutation_encoded_Mme.\"'),\n",
      "\t\tFeatureSpec(dtype=DataType.DOUBLE, name='\"salutation_encoded_Mr.\"'),\n",
      "\t\tFeatureSpec(dtype=DataType.DOUBLE, name='\"salutation_encoded_Mrs.\"'),\n",
      "\t\tFeatureSpec(dtype=DataType.DOUBLE, name='\"salutation_encoded_Ms.\"'),\n",
      "\t\tFeatureSpec(dtype=DataType.DOUBLE, name='\"salutation_encoded_Rev.\"'),\n",
      "\t\tFeatureSpec(dtype=DataType.DOUBLE, name='\"salutation_encoded_Sir.\"'),\n",
      "\t\tFeatureSpec(dtype=DataType.INT8, name='PCLASS'),\n",
      "\t\tFeatureSpec(dtype=DataType.INT8, name='SIBSP'),\n",
      "\t\tFeatureSpec(dtype=DataType.INT8, name='PARCH'),\n",
      "\t\tFeatureSpec(dtype=DataType.DOUBLE, name='FARE')\n",
      "                    ],\n",
      "                    outputs=[\n",
      "                        FeatureSpec(dtype=DataType.DOUBLE, name='AGE'),\n",
      "\t\tFeatureSpec(dtype=DataType.DOUBLE, name='\"sex_encoded_female\"'),\n",
      "\t\tFeatureSpec(dtype=DataType.DOUBLE, name='\"sex_encoded_male\"'),\n",
      "\t\tFeatureSpec(dtype=DataType.DOUBLE, name='\"cabin_encoded_N\"'),\n",
      "\t\tFeatureSpec(dtype=DataType.DOUBLE, name='\"cabin_encoded_Y\"'),\n",
      "\t\tFeatureSpec(dtype=DataType.DOUBLE, name='\"salutation_encoded_Capt.\"'),\n",
      "\t\tFeatureSpec(dtype=DataType.DOUBLE, name='\"salutation_encoded_Col.\"'),\n",
      "\t\tFeatureSpec(dtype=DataType.DOUBLE, name='\"salutation_encoded_Countess.\"'),\n",
      "\t\tFeatureSpec(dtype=DataType.DOUBLE, name='\"salutation_encoded_Don.\"'),\n",
      "\t\tFeatureSpec(dtype=DataType.DOUBLE, name='\"salutation_encoded_Dr.\"'),\n",
      "\t\tFeatureSpec(dtype=DataType.DOUBLE, name='\"salutation_encoded_Jonkheer.\"'),\n",
      "\t\tFeatureSpec(dtype=DataType.DOUBLE, name='\"salutation_encoded_Lady.\"'),\n",
      "\t\tFeatureSpec(dtype=DataType.DOUBLE, name='\"salutation_encoded_Major.\"'),\n",
      "\t\tFeatureSpec(dtype=DataType.DOUBLE, name='\"salutation_encoded_Master.\"'),\n",
      "\t\tFeatureSpec(dtype=DataType.DOUBLE, name='\"salutation_encoded_Miss.\"'),\n",
      "\t\tFeatureSpec(dtype=DataType.DOUBLE, name='\"salutation_encoded_Mlle.\"'),\n",
      "\t\tFeatureSpec(dtype=DataType.DOUBLE, name='\"salutation_encoded_Mme.\"'),\n",
      "\t\tFeatureSpec(dtype=DataType.DOUBLE, name='\"salutation_encoded_Mr.\"'),\n",
      "\t\tFeatureSpec(dtype=DataType.DOUBLE, name='\"salutation_encoded_Mrs.\"'),\n",
      "\t\tFeatureSpec(dtype=DataType.DOUBLE, name='\"salutation_encoded_Ms.\"'),\n",
      "\t\tFeatureSpec(dtype=DataType.DOUBLE, name='\"salutation_encoded_Rev.\"'),\n",
      "\t\tFeatureSpec(dtype=DataType.DOUBLE, name='\"salutation_encoded_Sir.\"'),\n",
      "\t\tFeatureSpec(dtype=DataType.INT8, name='PCLASS'),\n",
      "\t\tFeatureSpec(dtype=DataType.INT8, name='SIBSP'),\n",
      "\t\tFeatureSpec(dtype=DataType.INT8, name='PARCH'),\n",
      "\t\tFeatureSpec(dtype=DataType.DOUBLE, name='FARE'),\n",
      "\t\tFeatureSpec(dtype=DataType.DOUBLE, name='PREDICT_PROBA_0'),\n",
      "\t\tFeatureSpec(dtype=DataType.DOUBLE, name='PREDICT_PROBA_1')\n",
      "                    ]\n",
      "                )}\n",
      "INFO:snowflake.ml.registry._manager.model_manager:Start creating MODEL object for you in the Snowflake.\n"
     ]
    }
   ],
   "source": [
    "mv = reg.log_model(\n",
    "    v2_rf,\n",
    "    model_name=\"Titanic_RF\",\n",
    "    version_name=\"v2\",\n",
    "    pip_requirements=[\"packaging\"],\n",
    "    comment=\"Very simple RF model to setup baseline\",\n",
    "    metrics={\n",
    "        \"training_accuracy_score\": v2_rf_training_accuracy_score,\n",
    "        \"training_confusion_matrix\": v2_rf_training_confusion_matrix.tolist()\n",
    "    },\n",
    "    sample_input_data=v2_training_df\n",
    ")"
   ]
  },
  {
   "cell_type": "markdown",
   "metadata": {},
   "source": [
    "# Use the Model Just Logged\n",
    "The `log_model()` method returns a reference to the *model version* just got logged. It can be used make predictions."
   ]
  },
  {
   "cell_type": "code",
   "execution_count": 57,
   "metadata": {},
   "outputs": [
    {
     "name": "stdout",
     "output_type": "stream",
     "text": [
      "------------------------------\n",
      "|\"SURVIVED\"  |\"PREDICTIONS\"  |\n",
      "------------------------------\n",
      "|0           |0              |\n",
      "|1           |1              |\n",
      "|1           |1              |\n",
      "|1           |1              |\n",
      "|0           |0              |\n",
      "|0           |0              |\n",
      "|0           |0              |\n",
      "|0           |0              |\n",
      "|1           |1              |\n",
      "|1           |1              |\n",
      "------------------------------\n",
      "\n"
     ]
    }
   ],
   "source": [
    "v2_test_prediction_df = mv.run(v2_test_df, function_name='predict')\n",
    "v2_test_prediction_df[LABEL_COLS[0], OUTPUT_COLS[0]].show()"
   ]
  },
  {
   "cell_type": "code",
   "execution_count": 58,
   "metadata": {},
   "outputs": [
    {
     "name": "stderr",
     "output_type": "stream",
     "text": [
      "INFO:__main__:RandomForestClassifier v2 accuracy on test data: 0.986532\n"
     ]
    }
   ],
   "source": [
    "v2_test_accuracy = accuracy_score(df=v2_test_prediction_df, y_true_col_names=LABEL_COLS, y_pred_col_names=OUTPUT_COLS)\n",
    "log.info(f\"RandomForestClassifier v2 accuracy on test data: {v2_test_accuracy}\")"
   ]
  },
  {
   "cell_type": "markdown",
   "metadata": {},
   "source": [
    "## Use A Model from Registry\n",
    "The `show_models()` method returns a `Pandas` DataFrame"
   ]
  },
  {
   "cell_type": "code",
   "execution_count": null,
   "metadata": {},
   "outputs": [],
   "source": [
    "models_df = reg.show_models()\n",
    "models_df.head()"
   ]
  },
  {
   "cell_type": "markdown",
   "metadata": {},
   "source": [
    "### Two Ways to Get A Model Reference/Instance from Registry\n",
    "1. The `models()` method returns the list of all models (each being a `Model` instance)\n",
    "2. `get_model(model_name)` returns an instance of the named model"
   ]
  },
  {
   "cell_type": "code",
   "execution_count": 65,
   "metadata": {},
   "outputs": [
    {
     "data": {
      "text/html": [
       "<div>\n",
       "<style scoped>\n",
       "    .dataframe tbody tr th:only-of-type {\n",
       "        vertical-align: middle;\n",
       "    }\n",
       "\n",
       "    .dataframe tbody tr th {\n",
       "        vertical-align: top;\n",
       "    }\n",
       "\n",
       "    .dataframe thead th {\n",
       "        text-align: right;\n",
       "    }\n",
       "</style>\n",
       "<table border=\"1\" class=\"dataframe\">\n",
       "  <thead>\n",
       "    <tr style=\"text-align: right;\">\n",
       "      <th></th>\n",
       "      <th>created_on</th>\n",
       "      <th>name</th>\n",
       "      <th>database_name</th>\n",
       "      <th>schema_name</th>\n",
       "      <th>comment</th>\n",
       "      <th>owner</th>\n",
       "      <th>default_version_name</th>\n",
       "      <th>versions</th>\n",
       "    </tr>\n",
       "  </thead>\n",
       "  <tbody>\n",
       "    <tr>\n",
       "      <th>0</th>\n",
       "      <td>2024-02-09 09:04:04.762000-08:00</td>\n",
       "      <td>TITANIC_LINEARSVC</td>\n",
       "      <td>MACHINE_LEARNING</td>\n",
       "      <td>MODEL_REGISTRY</td>\n",
       "      <td>None</td>\n",
       "      <td>ROLE_SNOWPARK</td>\n",
       "      <td>V1</td>\n",
       "      <td>[\"V1\"]</td>\n",
       "    </tr>\n",
       "    <tr>\n",
       "      <th>1</th>\n",
       "      <td>2024-02-09 09:00:46.602000-08:00</td>\n",
       "      <td>TITANIC_RF</td>\n",
       "      <td>MACHINE_LEARNING</td>\n",
       "      <td>MODEL_REGISTRY</td>\n",
       "      <td>None</td>\n",
       "      <td>ROLE_SNOWPARK</td>\n",
       "      <td>V1</td>\n",
       "      <td>[\"V1\",\"V2\"]</td>\n",
       "    </tr>\n",
       "  </tbody>\n",
       "</table>\n",
       "</div>"
      ],
      "text/plain": [
       "                        created_on               name     database_name  \\\n",
       "0 2024-02-09 09:04:04.762000-08:00  TITANIC_LINEARSVC  MACHINE_LEARNING   \n",
       "1 2024-02-09 09:00:46.602000-08:00         TITANIC_RF  MACHINE_LEARNING   \n",
       "\n",
       "      schema_name comment          owner default_version_name     versions  \n",
       "0  MODEL_REGISTRY    None  ROLE_SNOWPARK                   V1       [\"V1\"]  \n",
       "1  MODEL_REGISTRY    None  ROLE_SNOWPARK                   V1  [\"V1\",\"V2\"]  "
      ]
     },
     "execution_count": 65,
     "metadata": {},
     "output_type": "execute_result"
    }
   ],
   "source": [
    "reg.show_models()"
   ]
  },
  {
   "cell_type": "markdown",
   "metadata": {},
   "source": [
    "#### models()"
   ]
  },
  {
   "cell_type": "code",
   "execution_count": 59,
   "metadata": {},
   "outputs": [
    {
     "data": {
      "text/plain": [
       "['TITANIC_LINEARSVC', 'TITANIC_RF']"
      ]
     },
     "execution_count": 59,
     "metadata": {},
     "output_type": "execute_result"
    }
   ],
   "source": [
    "model_list = reg.models()\n",
    "[m.name for m in model_list]"
   ]
  },
  {
   "cell_type": "code",
   "execution_count": 60,
   "metadata": {},
   "outputs": [
    {
     "data": {
      "text/plain": [
       "[<snowflake.ml.model._client.model.model_version_impl.ModelVersion at 0x7f8a8072c0a0>,\n",
       " <snowflake.ml.model._client.model.model_version_impl.ModelVersion at 0x7f8a804ebe80>]"
      ]
     },
     "execution_count": 60,
     "metadata": {},
     "output_type": "execute_result"
    }
   ],
   "source": [
    "rf_model = model_list[1]\n",
    "rf_model.versions()"
   ]
  },
  {
   "cell_type": "code",
   "execution_count": 61,
   "metadata": {},
   "outputs": [
    {
     "data": {
      "text/html": [
       "<div>\n",
       "<style scoped>\n",
       "    .dataframe tbody tr th:only-of-type {\n",
       "        vertical-align: middle;\n",
       "    }\n",
       "\n",
       "    .dataframe tbody tr th {\n",
       "        vertical-align: top;\n",
       "    }\n",
       "\n",
       "    .dataframe thead th {\n",
       "        text-align: right;\n",
       "    }\n",
       "</style>\n",
       "<table border=\"1\" class=\"dataframe\">\n",
       "  <thead>\n",
       "    <tr style=\"text-align: right;\">\n",
       "      <th></th>\n",
       "      <th>created_on</th>\n",
       "      <th>name</th>\n",
       "      <th>comment</th>\n",
       "      <th>database_name</th>\n",
       "      <th>schema_name</th>\n",
       "      <th>module_name</th>\n",
       "      <th>is_default_version</th>\n",
       "      <th>functions</th>\n",
       "      <th>metadata</th>\n",
       "      <th>user_data</th>\n",
       "    </tr>\n",
       "  </thead>\n",
       "  <tbody>\n",
       "    <tr>\n",
       "      <th>0</th>\n",
       "      <td>2024-02-09 09:00:46.635000-08:00</td>\n",
       "      <td>V1</td>\n",
       "      <td>Very simple RF model to setup baseline</td>\n",
       "      <td>MACHINE_LEARNING</td>\n",
       "      <td>MODEL_REGISTRY</td>\n",
       "      <td>TITANIC_RF</td>\n",
       "      <td>true</td>\n",
       "      <td>[\"PREDICT_PROBA\",\"PREDICT\",\"PREDICT_LOG_PROBA\"]</td>\n",
       "      <td>{\"metrics\": {\"training_accuracy_score\": 0.8361...</td>\n",
       "      <td>{\"snowpark_ml_data\":{\"functions\":[{\"name\":\"PRE...</td>\n",
       "    </tr>\n",
       "    <tr>\n",
       "      <th>1</th>\n",
       "      <td>2024-02-09 09:09:28.132000-08:00</td>\n",
       "      <td>V2</td>\n",
       "      <td>Very simple RF model to setup baseline</td>\n",
       "      <td>MACHINE_LEARNING</td>\n",
       "      <td>MODEL_REGISTRY</td>\n",
       "      <td>TITANIC_RF</td>\n",
       "      <td>false</td>\n",
       "      <td>[\"PREDICT_PROBA\",\"PREDICT\",\"PREDICT_LOG_PROBA\"]</td>\n",
       "      <td>{\"metrics\": {\"training_accuracy_score\": 0.9865...</td>\n",
       "      <td>{\"snowpark_ml_data\":{\"functions\":[{\"name\":\"PRE...</td>\n",
       "    </tr>\n",
       "  </tbody>\n",
       "</table>\n",
       "</div>"
      ],
      "text/plain": [
       "                        created_on name  \\\n",
       "0 2024-02-09 09:00:46.635000-08:00   V1   \n",
       "1 2024-02-09 09:09:28.132000-08:00   V2   \n",
       "\n",
       "                                  comment     database_name     schema_name  \\\n",
       "0  Very simple RF model to setup baseline  MACHINE_LEARNING  MODEL_REGISTRY   \n",
       "1  Very simple RF model to setup baseline  MACHINE_LEARNING  MODEL_REGISTRY   \n",
       "\n",
       "  module_name is_default_version  \\\n",
       "0  TITANIC_RF               true   \n",
       "1  TITANIC_RF              false   \n",
       "\n",
       "                                         functions  \\\n",
       "0  [\"PREDICT_PROBA\",\"PREDICT\",\"PREDICT_LOG_PROBA\"]   \n",
       "1  [\"PREDICT_PROBA\",\"PREDICT\",\"PREDICT_LOG_PROBA\"]   \n",
       "\n",
       "                                            metadata  \\\n",
       "0  {\"metrics\": {\"training_accuracy_score\": 0.8361...   \n",
       "1  {\"metrics\": {\"training_accuracy_score\": 0.9865...   \n",
       "\n",
       "                                           user_data  \n",
       "0  {\"snowpark_ml_data\":{\"functions\":[{\"name\":\"PRE...  \n",
       "1  {\"snowpark_ml_data\":{\"functions\":[{\"name\":\"PRE...  "
      ]
     },
     "execution_count": 61,
     "metadata": {},
     "output_type": "execute_result"
    }
   ],
   "source": [
    "rf_model.show_versions()"
   ]
  },
  {
   "cell_type": "code",
   "execution_count": 62,
   "metadata": {},
   "outputs": [
    {
     "name": "stdout",
     "output_type": "stream",
     "text": [
      "------------------------------\n",
      "|\"SURVIVED\"  |\"PREDICTIONS\"  |\n",
      "------------------------------\n",
      "|0           |0              |\n",
      "|1           |1              |\n",
      "|1           |0              |\n",
      "|1           |1              |\n",
      "|0           |0              |\n",
      "|0           |0              |\n",
      "|0           |0              |\n",
      "|0           |0              |\n",
      "|1           |1              |\n",
      "|1           |0              |\n",
      "------------------------------\n",
      "\n"
     ]
    }
   ],
   "source": [
    "rf_mv1 = model_list[1].version('v1')\n",
    "pred_df1 = rf_mv1.run(v1_test_df, function_name='predict')\n",
    "pred_df1['SURVIVED', 'PREDICTIONS'].show()"
   ]
  },
  {
   "cell_type": "markdown",
   "metadata": {},
   "source": [
    "#### get_model(model_name)"
   ]
  },
  {
   "cell_type": "code",
   "execution_count": 63,
   "metadata": {},
   "outputs": [
    {
     "data": {
      "text/plain": [
       "[<snowflake.ml.model._client.model.model_version_impl.ModelVersion at 0x7f8a808e0fa0>]"
      ]
     },
     "execution_count": 63,
     "metadata": {},
     "output_type": "execute_result"
    }
   ],
   "source": [
    "lsvc_model = reg.get_model(\"Titanic_LinearSVC\")\n",
    "lsvc_model.versions()"
   ]
  },
  {
   "cell_type": "code",
   "execution_count": 64,
   "metadata": {},
   "outputs": [
    {
     "name": "stdout",
     "output_type": "stream",
     "text": [
      "------------------------------\n",
      "|\"SURVIVED\"  |\"PREDICTIONS\"  |\n",
      "------------------------------\n",
      "|0           |0              |\n",
      "|1           |1              |\n",
      "|1           |0              |\n",
      "|1           |1              |\n",
      "|0           |0              |\n",
      "|0           |0              |\n",
      "|0           |1              |\n",
      "|0           |0              |\n",
      "|1           |0              |\n",
      "|1           |0              |\n",
      "------------------------------\n",
      "\n"
     ]
    }
   ],
   "source": [
    "lsvc_mv1 = lsvc_model.version('v1')\n",
    "pred_df1_lsvc = lsvc_mv1.run(v1_test_df, function_name='predict')\n",
    "pred_df1_lsvc['SURVIVED', 'PREDICTIONS'].show()"
   ]
  },
  {
   "cell_type": "code",
   "execution_count": null,
   "metadata": {},
   "outputs": [],
   "source": []
  }
 ],
 "metadata": {
  "kernelspec": {
   "display_name": "snowpark",
   "language": "python",
   "name": "python3"
  },
  "language_info": {
   "codemirror_mode": {
    "name": "ipython",
    "version": 3
   },
   "file_extension": ".py",
   "mimetype": "text/x-python",
   "name": "python",
   "nbconvert_exporter": "python",
   "pygments_lexer": "ipython3",
   "version": "3.9.17"
  }
 },
 "nbformat": 4,
 "nbformat_minor": 2
}
